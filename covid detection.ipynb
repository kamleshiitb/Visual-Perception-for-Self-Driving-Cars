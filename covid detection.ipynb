{
  "nbformat": 4,
  "nbformat_minor": 0,
  "metadata": {
    "accelerator": "GPU",
    "colab": {
      "name": "MLproject.0.ipynb",
      "provenance": []
    },
    "kernelspec": {
      "display_name": "Python 3",
      "name": "python3"
    },
    "language_info": {
      "name": "python"
    }
  },
  "cells": [
    {
      "cell_type": "code",
      "metadata": {
        "id": "Lrjcc1O2WRMc",
        "colab": {
          "base_uri": "https://localhost:8080/",
          "height": 345
        },
        "outputId": "2a316be1-6514-4ac3-98c4-c61bb4e8eb46"
      },
      "source": [
        "import numpy as np\n",
        "import tensorflow as tf\n",
        "import keras\n",
        "import pandas as pd\n",
        "import cv2\n",
        "from glob import glob\n",
        "import matplotlib.pyplot as plt\n",
        "from pathlib import Path\n",
        "from keras.layers import Input, Lambda, Dense, Flatten, Conv2D, Activation, MaxPool2D, Dropout\n",
        "from keras.models import  Model\n",
        "from keras.applications.vgg19 import VGG19\n",
        "from keras.applications.resnet50 import ResNet50\n",
        "from keras.models import Sequential\n",
        "from keras.preprocessing import image, image_dataset_from_directory"
      ],
      "execution_count": null,
      "outputs": [
        {
          "output_type": "error",
          "ename": "ImportError",
          "evalue": "ignored",
          "traceback": [
            "\u001b[0;31m---------------------------------------------------------------------------\u001b[0m",
            "\u001b[0;31mImportError\u001b[0m                               Traceback (most recent call last)",
            "\u001b[0;32m<ipython-input-13-1ea8f856fb1f>\u001b[0m in \u001b[0;36m<module>\u001b[0;34m()\u001b[0m\n\u001b[1;32m     12\u001b[0m \u001b[0;32mfrom\u001b[0m \u001b[0mkeras\u001b[0m\u001b[0;34m.\u001b[0m\u001b[0mapplications\u001b[0m\u001b[0;34m.\u001b[0m\u001b[0mresnet50\u001b[0m \u001b[0;32mimport\u001b[0m \u001b[0mResNet50\u001b[0m\u001b[0;34m\u001b[0m\u001b[0;34m\u001b[0m\u001b[0m\n\u001b[1;32m     13\u001b[0m \u001b[0;32mfrom\u001b[0m \u001b[0mkeras\u001b[0m\u001b[0;34m.\u001b[0m\u001b[0mmodels\u001b[0m \u001b[0;32mimport\u001b[0m \u001b[0mSequential\u001b[0m\u001b[0;34m\u001b[0m\u001b[0;34m\u001b[0m\u001b[0m\n\u001b[0;32m---> 14\u001b[0;31m \u001b[0;32mfrom\u001b[0m \u001b[0mkeras\u001b[0m\u001b[0;34m.\u001b[0m\u001b[0mpreprocessing\u001b[0m \u001b[0;32mimport\u001b[0m \u001b[0mimage\u001b[0m\u001b[0;34m,\u001b[0m \u001b[0mimage_dataset_from_directory\u001b[0m\u001b[0;34m\u001b[0m\u001b[0;34m\u001b[0m\u001b[0m\n\u001b[0m",
            "\u001b[0;31mImportError\u001b[0m: cannot import name 'image_dataset_from_directory' from 'keras.preprocessing' (/usr/local/lib/python3.7/dist-packages/keras/preprocessing/__init__.py)",
            "",
            "\u001b[0;31m---------------------------------------------------------------------------\u001b[0;32m\nNOTE: If your import is failing due to a missing package, you can\nmanually install dependencies using either !pip or !apt.\n\nTo view examples of installing some common dependencies, click the\n\"Open Examples\" button below.\n\u001b[0;31m---------------------------------------------------------------------------\u001b[0m\n"
          ]
        }
      ]
    },
    {
      "cell_type": "code",
      "metadata": {
        "id": "80WyuigYzv4_"
      },
      "source": [
        "train_path = \"/content/drive/MyDrive/covid_dataset/Training\"\n",
        "test_path= \"/content/drive/MyDrive/covid_dataset/Testing\"\n"
      ],
      "execution_count": null,
      "outputs": []
    },
    {
      "cell_type": "code",
      "metadata": {
        "colab": {
          "base_uri": "https://localhost:8080/"
        },
        "id": "1SXQ2wZe1hgX",
        "outputId": "5570d9d6-9742-4600-db0b-be24ada2d8dc"
      },
      "source": [
        "# use the image data generator to import the image from the dataset\n",
        "from keras.preprocessing.image import ImageDataGenerator,load_img, img_to_array\n",
        "train_datagen = ImageDataGenerator(rescale = 1/255,\n",
        "                                   shear_range= 0.2,\n",
        "                                   zoom_range= 0.2,\n",
        "                                   horizontal_flip= True)\n",
        "test_datagen = ImageDataGenerator(rescale = 1/255)\n",
        "training_set = train_datagen.flow_from_directory(\"/content/drive/MyDrive/covid_dataset/Training\",\n",
        "                                                 target_size=(224, 224),\n",
        "                                                 color_mode='rgb',\n",
        "                                                 class_mode='categorical',\n",
        "                                                 batch_size= 30)\n",
        "test_set = test_datagen.flow_from_directory(\"/content/drive/MyDrive/covid_dataset/Testing\",\n",
        "                                               target_size=(224, 224),\n",
        "                                                 color_mode='rgb',\n",
        "                                                 class_mode='categorical',\n",
        "                                                 batch_size= 20)"
      ],
      "execution_count": null,
      "outputs": [
        {
          "output_type": "stream",
          "text": [
            "Found 2534 images belonging to 2 classes.\n",
            "Found 560 images belonging to 2 classes.\n"
          ],
          "name": "stdout"
        }
      ]
    },
    {
      "cell_type": "code",
      "metadata": {
        "colab": {
          "base_uri": "https://localhost:8080/"
        },
        "id": "TExgGixNfR9X",
        "outputId": "99e37700-3fd2-45a0-e9f9-a0faefe73c24"
      },
      "source": [
        "training_set.class_indices"
      ],
      "execution_count": null,
      "outputs": [
        {
          "output_type": "execute_result",
          "data": {
            "text/plain": [
              "{'Covid19': 0, 'Normal': 1}"
            ]
          },
          "metadata": {
            "tags": []
          },
          "execution_count": 16
        }
      ]
    },
    {
      "cell_type": "code",
      "metadata": {
        "id": "NTcPrWzMjzjX"
      },
      "source": [
        "#create CNN model \n",
        "model1= Sequential(Conv2D(64, kernel_size=(3,3), input_shape=(224,224,3)))\n",
        "model1.add(Activation(\"relu\"))\n",
        "model1.add(MaxPool2D(pool_size=(2,2)))\n",
        "model1.add(Conv2D(64, kernel_size=(3,3)))\n",
        "model1.add(Activation(\"relu\"))\n",
        "model1.add(MaxPool2D(pool_size=(2,2)))\n",
        "\n",
        "model1.add(Conv2D(128, kernel_size=(3,3)))\n",
        "model1.add(Activation(\"relu\"))\n",
        "model1.add(MaxPool2D(pool_size=(2,2)))\n",
        "\n",
        "model1.add(Conv2D(64, kernel_size=(3,3)))\n",
        "model1.add(Activation(\"relu\"))\n",
        "model1.add(MaxPool2D(pool_size=(2,2)))\n",
        "\n",
        "model1.add(Flatten())\n",
        "model1.add(Dense(64, activation=\"relu\"))\n",
        "model1.add(Dropout(0.5))\n",
        "model1.add(Dense(32, activation=\"relu\"))\n",
        "model1.add(Dropout(0.5))\n",
        "model1.add(Dense(2, input_dim= 128,activation=\"softmax\"))\n"
      ],
      "execution_count": null,
      "outputs": []
    },
    {
      "cell_type": "code",
      "metadata": {
        "id": "u300_tdotoWt"
      },
      "source": [
        "model1.compile(\n",
        "    optimizer='adam', \n",
        "    loss= \"categorical_crossentropy\",\n",
        "     loss_weights=None, \n",
        "      run_eagerly=None,\n",
        "       steps_per_execution=None,\n",
        "      metrics= [\"accuracy\"])"
      ],
      "execution_count": null,
      "outputs": []
    },
    {
      "cell_type": "code",
      "metadata": {
        "colab": {
          "base_uri": "https://localhost:8080/"
        },
        "id": "Zu7jDtVNjzy0",
        "outputId": "a58b825e-9baf-43a5-c6b1-fb0f96371f08"
      },
      "source": [
        "model1.summary()"
      ],
      "execution_count": null,
      "outputs": [
        {
          "output_type": "stream",
          "text": [
            "Model: \"sequential\"\n",
            "_________________________________________________________________\n",
            "Layer (type)                 Output Shape              Param #   \n",
            "=================================================================\n",
            "conv2d (Conv2D)              (None, 222, 222, 64)      1792      \n",
            "_________________________________________________________________\n",
            "activation (Activation)      (None, 222, 222, 64)      0         \n",
            "_________________________________________________________________\n",
            "max_pooling2d (MaxPooling2D) (None, 111, 111, 64)      0         \n",
            "_________________________________________________________________\n",
            "conv2d_1 (Conv2D)            (None, 109, 109, 64)      36928     \n",
            "_________________________________________________________________\n",
            "activation_1 (Activation)    (None, 109, 109, 64)      0         \n",
            "_________________________________________________________________\n",
            "max_pooling2d_1 (MaxPooling2 (None, 54, 54, 64)        0         \n",
            "_________________________________________________________________\n",
            "conv2d_2 (Conv2D)            (None, 52, 52, 128)       73856     \n",
            "_________________________________________________________________\n",
            "activation_2 (Activation)    (None, 52, 52, 128)       0         \n",
            "_________________________________________________________________\n",
            "max_pooling2d_2 (MaxPooling2 (None, 26, 26, 128)       0         \n",
            "_________________________________________________________________\n",
            "conv2d_3 (Conv2D)            (None, 24, 24, 64)        73792     \n",
            "_________________________________________________________________\n",
            "activation_3 (Activation)    (None, 24, 24, 64)        0         \n",
            "_________________________________________________________________\n",
            "max_pooling2d_3 (MaxPooling2 (None, 12, 12, 64)        0         \n",
            "_________________________________________________________________\n",
            "flatten (Flatten)            (None, 9216)              0         \n",
            "_________________________________________________________________\n",
            "dense (Dense)                (None, 64)                589888    \n",
            "_________________________________________________________________\n",
            "dropout (Dropout)            (None, 64)                0         \n",
            "_________________________________________________________________\n",
            "dense_1 (Dense)              (None, 32)                2080      \n",
            "_________________________________________________________________\n",
            "dropout_1 (Dropout)          (None, 32)                0         \n",
            "_________________________________________________________________\n",
            "dense_2 (Dense)              (None, 2)                 66        \n",
            "=================================================================\n",
            "Total params: 778,402\n",
            "Trainable params: 778,402\n",
            "Non-trainable params: 0\n",
            "_________________________________________________________________\n"
          ],
          "name": "stdout"
        }
      ]
    },
    {
      "cell_type": "code",
      "metadata": {
        "id": "UTJTrqcbtiyZ"
      },
      "source": [
        "###Fit the model"
      ],
      "execution_count": null,
      "outputs": []
    },
    {
      "cell_type": "code",
      "metadata": {
        "colab": {
          "base_uri": "https://localhost:8080/"
        },
        "id": "owBwSDLCj0Aj",
        "outputId": "1940a49e-4d55-418c-971d-bfc29652e771"
      },
      "source": [
        "vggmodel= model1.fit_generator( training_set, \n",
        "                              steps_per_epoch= 6,\n",
        "                              epochs=20,  \n",
        "                              validation_data= test_set)"
      ],
      "execution_count": null,
      "outputs": [
        {
          "output_type": "stream",
          "text": [
            "/usr/local/lib/python3.7/dist-packages/keras/engine/training.py:1915: UserWarning: `Model.fit_generator` is deprecated and will be removed in a future version. Please use `Model.fit`, which supports generators.\n",
            "  warnings.warn('`Model.fit_generator` is deprecated and '\n"
          ],
          "name": "stderr"
        },
        {
          "output_type": "stream",
          "text": [
            "Epoch 1/20\n",
            "6/6 [==============================] - 202s 30s/step - loss: 0.7022 - accuracy: 0.5647 - val_loss: 0.7606 - val_accuracy: 0.5000\n",
            "Epoch 2/20\n",
            "6/6 [==============================] - 42s 7s/step - loss: 0.7482 - accuracy: 0.5585 - val_loss: 0.7123 - val_accuracy: 0.5000\n",
            "Epoch 3/20\n",
            "6/6 [==============================] - 38s 6s/step - loss: 0.7074 - accuracy: 0.5298 - val_loss: 0.6954 - val_accuracy: 0.5000\n",
            "Epoch 4/20\n",
            "2/6 [=========>....................] - ETA: 20s - loss: 0.6889 - accuracy: 0.5083"
          ],
          "name": "stdout"
        }
      ]
    },
    {
      "cell_type": "code",
      "metadata": {
        "id": "qVyuEmpKj0Iz"
      },
      "source": [
        ""
      ],
      "execution_count": null,
      "outputs": []
    },
    {
      "cell_type": "code",
      "metadata": {
        "id": "bVYzruvvBP2V"
      },
      "source": [
        "#add preprocessing layer to the front of VGG\n",
        "Image_size = [224,224]\n",
        "vgg= VGG19(include_top=False, \n",
        "           weights='imagenet',\n",
        "           input_tensor=None,\n",
        "           input_shape= Image_size + [3],\n",
        "           pooling=None, \n",
        "           classes=2, \n",
        "           classifier_activation= \"softmax\")\n",
        "\n",
        "#don't train existing weights\n",
        "for layer in vgg.layers:\n",
        "  layer.trainable = False\n",
        "\n",
        "#useful for getting number of classes\n",
        "#folders= glob(\"covid19/train/*\") \n"
      ],
      "execution_count": null,
      "outputs": []
    },
    {
      "cell_type": "code",
      "metadata": {
        "id": "_RiZ6ffvIPRq"
      },
      "source": [
        "#our layers- we can adjust number of layer as per our requirement\n",
        "x = Flatten()(vgg.output)\n",
        "#prediction = Dense(len(folders), activation= \"softmax\")(x)\n",
        "prediction = Dense(2, activation= \"softmax\")(x)"
      ],
      "execution_count": null,
      "outputs": []
    },
    {
      "cell_type": "code",
      "metadata": {
        "id": "Rai3fXjLKR2d"
      },
      "source": [
        "#create a model object\n",
        "model = Model(inputs= vgg.input, outputs = prediction)"
      ],
      "execution_count": null,
      "outputs": []
    },
    {
      "cell_type": "markdown",
      "metadata": {
        "id": "BvZlnR9IPKv-"
      },
      "source": [
        ""
      ]
    },
    {
      "cell_type": "code",
      "metadata": {
        "id": "JROgP-mpK_Bc"
      },
      "source": [
        "\n",
        "\n",
        "#cost and optimization initialization for model\n",
        "model.compile(\n",
        "    optimizer='adam', \n",
        "    loss= \"categorical_crossentropy\",\n",
        "     loss_weights=None, \n",
        "      run_eagerly=None,\n",
        "       steps_per_execution=None,\n",
        "      metrics= [\"accuracy\"])"
      ],
      "execution_count": null,
      "outputs": []
    },
    {
      "cell_type": "code",
      "metadata": {
        "colab": {
          "base_uri": "https://localhost:8080/"
        },
        "id": "4DU6gvu2LBE_",
        "outputId": "8c924a31-9fde-4fc0-c888-4dc25957728d"
      },
      "source": [
        "model.summary()"
      ],
      "execution_count": null,
      "outputs": [
        {
          "output_type": "stream",
          "text": [
            "Model: \"model_1\"\n",
            "_________________________________________________________________\n",
            "Layer (type)                 Output Shape              Param #   \n",
            "=================================================================\n",
            "input_3 (InputLayer)         [(None, 224, 224, 3)]     0         \n",
            "_________________________________________________________________\n",
            "block1_conv1 (Conv2D)        (None, 224, 224, 64)      1792      \n",
            "_________________________________________________________________\n",
            "block1_conv2 (Conv2D)        (None, 224, 224, 64)      36928     \n",
            "_________________________________________________________________\n",
            "block1_pool (MaxPooling2D)   (None, 112, 112, 64)      0         \n",
            "_________________________________________________________________\n",
            "block2_conv1 (Conv2D)        (None, 112, 112, 128)     73856     \n",
            "_________________________________________________________________\n",
            "block2_conv2 (Conv2D)        (None, 112, 112, 128)     147584    \n",
            "_________________________________________________________________\n",
            "block2_pool (MaxPooling2D)   (None, 56, 56, 128)       0         \n",
            "_________________________________________________________________\n",
            "block3_conv1 (Conv2D)        (None, 56, 56, 256)       295168    \n",
            "_________________________________________________________________\n",
            "block3_conv2 (Conv2D)        (None, 56, 56, 256)       590080    \n",
            "_________________________________________________________________\n",
            "block3_conv3 (Conv2D)        (None, 56, 56, 256)       590080    \n",
            "_________________________________________________________________\n",
            "block3_conv4 (Conv2D)        (None, 56, 56, 256)       590080    \n",
            "_________________________________________________________________\n",
            "block3_pool (MaxPooling2D)   (None, 28, 28, 256)       0         \n",
            "_________________________________________________________________\n",
            "block4_conv1 (Conv2D)        (None, 28, 28, 512)       1180160   \n",
            "_________________________________________________________________\n",
            "block4_conv2 (Conv2D)        (None, 28, 28, 512)       2359808   \n",
            "_________________________________________________________________\n",
            "block4_conv3 (Conv2D)        (None, 28, 28, 512)       2359808   \n",
            "_________________________________________________________________\n",
            "block4_conv4 (Conv2D)        (None, 28, 28, 512)       2359808   \n",
            "_________________________________________________________________\n",
            "block4_pool (MaxPooling2D)   (None, 14, 14, 512)       0         \n",
            "_________________________________________________________________\n",
            "block5_conv1 (Conv2D)        (None, 14, 14, 512)       2359808   \n",
            "_________________________________________________________________\n",
            "block5_conv2 (Conv2D)        (None, 14, 14, 512)       2359808   \n",
            "_________________________________________________________________\n",
            "block5_conv3 (Conv2D)        (None, 14, 14, 512)       2359808   \n",
            "_________________________________________________________________\n",
            "block5_conv4 (Conv2D)        (None, 14, 14, 512)       2359808   \n",
            "_________________________________________________________________\n",
            "block5_pool (MaxPooling2D)   (None, 7, 7, 512)         0         \n",
            "_________________________________________________________________\n",
            "flatten_1 (Flatten)          (None, 25088)             0         \n",
            "_________________________________________________________________\n",
            "dense_1 (Dense)              (None, 2)                 50178     \n",
            "=================================================================\n",
            "Total params: 20,074,562\n",
            "Trainable params: 20,074,562\n",
            "Non-trainable params: 0\n",
            "_________________________________________________________________\n"
          ],
          "name": "stdout"
        }
      ]
    },
    {
      "cell_type": "code",
      "metadata": {
        "id": "ED0qNjVWugtr"
      },
      "source": [
        ""
      ],
      "execution_count": null,
      "outputs": []
    },
    {
      "cell_type": "code",
      "metadata": {
        "colab": {
          "background_save": true,
          "base_uri": "https://localhost:8080/"
        },
        "id": "5rV5nlf4hAmJ",
        "outputId": "82f2881e-c7cb-4603-f7ec-c7cceaf01ef2"
      },
      "source": [
        "#fit VGG19 model \n",
        "vggmodel= model.fit_generator( training_set, \n",
        "                              steps_per_epoch= 6,\n",
        "                              epochs=20,  \n",
        "                              validation_data= test_set)"
      ],
      "execution_count": null,
      "outputs": [
        {
          "output_type": "stream",
          "text": [
            "/usr/local/lib/python3.7/dist-packages/tensorflow/python/keras/engine/training.py:1844: UserWarning: `Model.fit_generator` is deprecated and will be removed in a future version. Please use `Model.fit`, which supports generators.\n",
            "  warnings.warn('`Model.fit_generator` is deprecated and '\n"
          ],
          "name": "stderr"
        },
        {
          "output_type": "stream",
          "text": [
            "Epoch 1/20\n",
            "6/6 [==============================] - 6s 1s/step - loss: 0.6958 - accuracy: 0.5222 - val_loss: 0.7071 - val_accuracy: 0.5000\n",
            "Epoch 2/20\n",
            "6/6 [==============================] - 6s 946ms/step - loss: 0.6818 - accuracy: 0.5732 - val_loss: 0.6975 - val_accuracy: 0.5000\n",
            "Epoch 3/20\n",
            "6/6 [==============================] - 6s 1s/step - loss: 0.6877 - accuracy: 0.5444 - val_loss: 0.7006 - val_accuracy: 0.5000\n",
            "Epoch 4/20\n",
            "6/6 [==============================] - 5s 937ms/step - loss: 0.6737 - accuracy: 0.5944 - val_loss: 0.7114 - val_accuracy: 0.5000\n",
            "Epoch 5/20\n",
            "6/6 [==============================] - 5s 974ms/step - loss: 0.6792 - accuracy: 0.5667 - val_loss: 0.7516 - val_accuracy: 0.5000\n",
            "Epoch 6/20\n",
            "6/6 [==============================] - 5s 935ms/step - loss: 0.7980 - accuracy: 0.5333 - val_loss: 0.7026 - val_accuracy: 0.5000\n",
            "Epoch 7/20\n",
            "6/6 [==============================] - 6s 1s/step - loss: 0.6922 - accuracy: 0.5389 - val_loss: 0.6940 - val_accuracy: 0.5000\n",
            "Epoch 8/20\n",
            "6/6 [==============================] - 6s 993ms/step - loss: 0.7079 - accuracy: 0.5333 - val_loss: 0.6932 - val_accuracy: 0.5000\n",
            "Epoch 9/20\n",
            "6/6 [==============================] - 6s 1s/step - loss: 0.6920 - accuracy: 0.5444 - val_loss: 0.7007 - val_accuracy: 0.5000\n",
            "Epoch 10/20\n",
            "6/6 [==============================] - 6s 959ms/step - loss: 0.6860 - accuracy: 0.5667 - val_loss: 0.6980 - val_accuracy: 0.5000\n",
            "Epoch 11/20\n",
            "6/6 [==============================] - 6s 999ms/step - loss: 0.6814 - accuracy: 0.5778 - val_loss: 0.6982 - val_accuracy: 0.5000\n",
            "Epoch 12/20\n",
            "6/6 [==============================] - 5s 929ms/step - loss: 0.6789 - accuracy: 0.5778 - val_loss: 0.6948 - val_accuracy: 0.5000\n",
            "Epoch 13/20\n",
            "6/6 [==============================] - 6s 925ms/step - loss: 1.1824 - accuracy: 0.5444 - val_loss: 0.7196 - val_accuracy: 0.5000\n",
            "Epoch 14/20\n",
            "6/6 [==============================] - 5s 922ms/step - loss: 0.7160 - accuracy: 0.5333 - val_loss: 0.7009 - val_accuracy: 0.5000\n",
            "Epoch 15/20\n",
            "6/6 [==============================] - 5s 949ms/step - loss: 0.9241 - accuracy: 0.5444 - val_loss: 0.7202 - val_accuracy: 0.5000\n",
            "Epoch 16/20\n",
            "6/6 [==============================] - 5s 942ms/step - loss: 0.6987 - accuracy: 0.5167 - val_loss: 0.6942 - val_accuracy: 0.5000\n",
            "Epoch 17/20\n",
            "6/6 [==============================] - 5s 938ms/step - loss: 0.6880 - accuracy: 0.5778 - val_loss: 0.7108 - val_accuracy: 0.5000\n",
            "Epoch 18/20\n",
            "6/6 [==============================] - 5s 924ms/step - loss: 0.6925 - accuracy: 0.5444 - val_loss: 0.6932 - val_accuracy: 0.5000\n",
            "Epoch 19/20\n",
            "6/6 [==============================] - 6s 967ms/step - loss: 0.6895 - accuracy: 0.5944 - val_loss: 1.7230 - val_accuracy: 0.5000\n",
            "Epoch 20/20\n",
            "6/6 [==============================] - 5s 938ms/step - loss: 0.8231 - accuracy: 0.5611 - val_loss: 0.6971 - val_accuracy: 0.5000\n"
          ],
          "name": "stdout"
        }
      ]
    }
  ]
}